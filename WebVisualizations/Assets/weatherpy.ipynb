{
 "cells": [
  {
   "cell_type": "code",
   "execution_count": 1,
   "metadata": {},
   "outputs": [],
   "source": [
    "import pandas as pd\n",
    "import os"
   ]
  },
  {
   "cell_type": "code",
   "execution_count": 2,
   "metadata": {},
   "outputs": [
    {
     "data": {
      "text/html": [
       "<div>\n",
       "<style scoped>\n",
       "    .dataframe tbody tr th:only-of-type {\n",
       "        vertical-align: middle;\n",
       "    }\n",
       "\n",
       "    .dataframe tbody tr th {\n",
       "        vertical-align: top;\n",
       "    }\n",
       "\n",
       "    .dataframe thead th {\n",
       "        text-align: right;\n",
       "    }\n",
       "</style>\n",
       "<table border=\"1\" class=\"dataframe\">\n",
       "  <thead>\n",
       "    <tr style=\"text-align: right;\">\n",
       "      <th></th>\n",
       "      <th>City Name</th>\n",
       "      <th>Longitude</th>\n",
       "      <th>Latitude</th>\n",
       "      <th>Max Temperature</th>\n",
       "      <th>Humidity</th>\n",
       "      <th>Cloud Coverage</th>\n",
       "      <th>Wind Speed</th>\n",
       "      <th>City Country</th>\n",
       "      <th>Date Time</th>\n",
       "    </tr>\n",
       "  </thead>\n",
       "  <tbody>\n",
       "    <tr>\n",
       "      <th>0</th>\n",
       "      <td>Hobart</td>\n",
       "      <td>147.33</td>\n",
       "      <td>-42.88</td>\n",
       "      <td>53.60</td>\n",
       "      <td>93</td>\n",
       "      <td>90</td>\n",
       "      <td>2.21</td>\n",
       "      <td>AU</td>\n",
       "      <td>1597504502</td>\n",
       "    </tr>\n",
       "    <tr>\n",
       "      <th>1</th>\n",
       "      <td>Ushuaia</td>\n",
       "      <td>-68.30</td>\n",
       "      <td>-54.80</td>\n",
       "      <td>35.60</td>\n",
       "      <td>80</td>\n",
       "      <td>75</td>\n",
       "      <td>16.11</td>\n",
       "      <td>AR</td>\n",
       "      <td>1597504431</td>\n",
       "    </tr>\n",
       "    <tr>\n",
       "      <th>2</th>\n",
       "      <td>Jamestown</td>\n",
       "      <td>-79.24</td>\n",
       "      <td>42.10</td>\n",
       "      <td>79.00</td>\n",
       "      <td>73</td>\n",
       "      <td>1</td>\n",
       "      <td>8.05</td>\n",
       "      <td>US</td>\n",
       "      <td>1597504485</td>\n",
       "    </tr>\n",
       "    <tr>\n",
       "      <th>3</th>\n",
       "      <td>Taltal</td>\n",
       "      <td>-70.48</td>\n",
       "      <td>-25.40</td>\n",
       "      <td>62.11</td>\n",
       "      <td>49</td>\n",
       "      <td>0</td>\n",
       "      <td>5.99</td>\n",
       "      <td>CL</td>\n",
       "      <td>1597504517</td>\n",
       "    </tr>\n",
       "    <tr>\n",
       "      <th>4</th>\n",
       "      <td>Banda Aceh</td>\n",
       "      <td>95.32</td>\n",
       "      <td>5.56</td>\n",
       "      <td>80.89</td>\n",
       "      <td>80</td>\n",
       "      <td>29</td>\n",
       "      <td>5.19</td>\n",
       "      <td>ID</td>\n",
       "      <td>1597504715</td>\n",
       "    </tr>\n",
       "  </tbody>\n",
       "</table>\n",
       "</div>"
      ],
      "text/plain": [
       "    City Name  Longitude  Latitude  Max Temperature  Humidity  Cloud Coverage  \\\n",
       "0      Hobart     147.33    -42.88            53.60        93              90   \n",
       "1     Ushuaia     -68.30    -54.80            35.60        80              75   \n",
       "2   Jamestown     -79.24     42.10            79.00        73               1   \n",
       "3      Taltal     -70.48    -25.40            62.11        49               0   \n",
       "4  Banda Aceh      95.32      5.56            80.89        80              29   \n",
       "\n",
       "   Wind Speed City Country   Date Time  \n",
       "0        2.21           AU  1597504502  \n",
       "1       16.11           AR  1597504431  \n",
       "2        8.05           US  1597504485  \n",
       "3        5.99           CL  1597504517  \n",
       "4        5.19           ID  1597504715  "
      ]
     },
     "execution_count": 2,
     "metadata": {},
     "output_type": "execute_result"
    }
   ],
   "source": [
    "data = \"cities.csv\"\n",
    "cities_df = pd.read_csv(data)\n",
    "cities_df.head()"
   ]
  },
  {
   "cell_type": "code",
   "execution_count": 3,
   "metadata": {},
   "outputs": [],
   "source": [
    "cities_df.to_html('citiesweather.html')"
   ]
  },
  {
   "cell_type": "code",
   "execution_count": null,
   "metadata": {},
   "outputs": [],
   "source": []
  }
 ],
 "metadata": {
  "kernelspec": {
   "display_name": "Python 3.6.10 64-bit ('PythonData': conda)",
   "language": "python",
   "name": "python361064bitpythondatacondae5997a2e410345aaa38bb48a893dd3cc"
  },
  "language_info": {
   "codemirror_mode": {
    "name": "ipython",
    "version": 3
   },
   "file_extension": ".py",
   "mimetype": "text/x-python",
   "name": "python",
   "nbconvert_exporter": "python",
   "pygments_lexer": "ipython3",
   "version": "3.6.10"
  }
 },
 "nbformat": 4,
 "nbformat_minor": 4
}
